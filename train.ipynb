{
 "cells": [
  {
   "cell_type": "code",
   "execution_count": 6,
   "metadata": {},
   "outputs": [
    {
     "name": "stderr",
     "output_type": "stream",
     "text": [
      "huggingface/tokenizers: The current process just got forked, after parallelism has already been used. Disabling parallelism to avoid deadlocks...\n",
      "To disable this warning, you can either:\n",
      "\t- Avoid using `tokenizers` before the fork if possible\n",
      "\t- Explicitly set the environment variable TOKENIZERS_PARALLELISM=(true | false)\n"
     ]
    },
    {
     "name": "stdout",
     "output_type": "stream",
     "text": [
      "Requirement already satisfied: datasets in /home/student-math-01/anaconda3/envs/py33/lib/python3.10/site-packages (3.1.0)\n",
      "Requirement already satisfied: filelock in /home/student-math-01/anaconda3/envs/py33/lib/python3.10/site-packages (from datasets) (3.13.1)\n",
      "Requirement already satisfied: numpy>=1.17 in /home/student-math-01/anaconda3/envs/py33/lib/python3.10/site-packages (from datasets) (1.26.4)\n",
      "Requirement already satisfied: pyarrow>=15.0.0 in /home/student-math-01/anaconda3/envs/py33/lib/python3.10/site-packages (from datasets) (16.1.0)\n",
      "Requirement already satisfied: dill<0.3.9,>=0.3.0 in /home/student-math-01/anaconda3/envs/py33/lib/python3.10/site-packages (from datasets) (0.3.8)\n",
      "Requirement already satisfied: pandas in /home/student-math-01/anaconda3/envs/py33/lib/python3.10/site-packages (from datasets) (2.2.2)\n",
      "Requirement already satisfied: requests>=2.32.2 in /home/student-math-01/anaconda3/envs/py33/lib/python3.10/site-packages (from datasets) (2.32.3)\n",
      "Requirement already satisfied: tqdm>=4.66.3 in /home/student-math-01/anaconda3/envs/py33/lib/python3.10/site-packages (from datasets) (4.66.5)\n",
      "Requirement already satisfied: xxhash in /home/student-math-01/anaconda3/envs/py33/lib/python3.10/site-packages (from datasets) (3.5.0)\n",
      "Requirement already satisfied: multiprocess<0.70.17 in /home/student-math-01/anaconda3/envs/py33/lib/python3.10/site-packages (from datasets) (0.70.16)\n",
      "Requirement already satisfied: fsspec<=2024.9.0,>=2023.1.0 in /home/student-math-01/anaconda3/envs/py33/lib/python3.10/site-packages (from fsspec[http]<=2024.9.0,>=2023.1.0->datasets) (2024.6.1)\n",
      "Requirement already satisfied: aiohttp in /home/student-math-01/anaconda3/envs/py33/lib/python3.10/site-packages (from datasets) (3.10.5)\n",
      "Requirement already satisfied: huggingface-hub>=0.23.0 in /home/student-math-01/anaconda3/envs/py33/lib/python3.10/site-packages (from datasets) (0.26.3)\n",
      "Requirement already satisfied: packaging in /home/student-math-01/anaconda3/envs/py33/lib/python3.10/site-packages (from datasets) (24.1)\n",
      "Requirement already satisfied: pyyaml>=5.1 in /home/student-math-01/anaconda3/envs/py33/lib/python3.10/site-packages (from datasets) (6.0.1)\n",
      "Requirement already satisfied: aiohappyeyeballs>=2.3.0 in /home/student-math-01/anaconda3/envs/py33/lib/python3.10/site-packages (from aiohttp->datasets) (2.4.0)\n",
      "Requirement already satisfied: aiosignal>=1.1.2 in /home/student-math-01/anaconda3/envs/py33/lib/python3.10/site-packages (from aiohttp->datasets) (1.2.0)\n",
      "Requirement already satisfied: attrs>=17.3.0 in /home/student-math-01/anaconda3/envs/py33/lib/python3.10/site-packages (from aiohttp->datasets) (23.1.0)\n",
      "Requirement already satisfied: frozenlist>=1.1.1 in /home/student-math-01/anaconda3/envs/py33/lib/python3.10/site-packages (from aiohttp->datasets) (1.4.0)\n",
      "Requirement already satisfied: multidict<7.0,>=4.5 in /home/student-math-01/anaconda3/envs/py33/lib/python3.10/site-packages (from aiohttp->datasets) (6.0.4)\n",
      "Requirement already satisfied: yarl<2.0,>=1.0 in /home/student-math-01/anaconda3/envs/py33/lib/python3.10/site-packages (from aiohttp->datasets) (1.11.0)\n",
      "Requirement already satisfied: async-timeout<5.0,>=4.0 in /home/student-math-01/anaconda3/envs/py33/lib/python3.10/site-packages (from aiohttp->datasets) (4.0.3)\n",
      "Requirement already satisfied: typing-extensions>=3.7.4.3 in /home/student-math-01/anaconda3/envs/py33/lib/python3.10/site-packages (from huggingface-hub>=0.23.0->datasets) (4.11.0)\n",
      "Requirement already satisfied: charset-normalizer<4,>=2 in /home/student-math-01/anaconda3/envs/py33/lib/python3.10/site-packages (from requests>=2.32.2->datasets) (3.3.2)\n",
      "Requirement already satisfied: idna<4,>=2.5 in /home/student-math-01/anaconda3/envs/py33/lib/python3.10/site-packages (from requests>=2.32.2->datasets) (3.7)\n",
      "Requirement already satisfied: urllib3<3,>=1.21.1 in /home/student-math-01/anaconda3/envs/py33/lib/python3.10/site-packages (from requests>=2.32.2->datasets) (2.2.3)\n",
      "Requirement already satisfied: certifi>=2017.4.17 in /home/student-math-01/anaconda3/envs/py33/lib/python3.10/site-packages (from requests>=2.32.2->datasets) (2024.8.30)\n",
      "Requirement already satisfied: python-dateutil>=2.8.2 in /home/student-math-01/anaconda3/envs/py33/lib/python3.10/site-packages (from pandas->datasets) (2.9.0.post0)\n",
      "Requirement already satisfied: pytz>=2020.1 in /home/student-math-01/anaconda3/envs/py33/lib/python3.10/site-packages (from pandas->datasets) (2024.1)\n",
      "Requirement already satisfied: tzdata>=2022.7 in /home/student-math-01/anaconda3/envs/py33/lib/python3.10/site-packages (from pandas->datasets) (2023.3)\n",
      "Requirement already satisfied: six>=1.5 in /home/student-math-01/anaconda3/envs/py33/lib/python3.10/site-packages (from python-dateutil>=2.8.2->pandas->datasets) (1.16.0)\n"
     ]
    }
   ],
   "source": [
    "!pip install datasets"
   ]
  },
  {
   "cell_type": "code",
   "execution_count": 7,
   "metadata": {},
   "outputs": [],
   "source": [
    "from transformers import AutoTokenizer, AutoModelForSequenceClassification, Trainer, TrainingArguments\n",
    "from sklearn.model_selection import train_test_split\n",
    "from datasets import Dataset, DatasetDict\n",
    "import torch\n",
    "import pandas as pd\n"
   ]
  },
  {
   "cell_type": "code",
   "execution_count": 8,
   "metadata": {},
   "outputs": [
    {
     "data": {
      "text/html": [
       "<div>\n",
       "<style scoped>\n",
       "    .dataframe tbody tr th:only-of-type {\n",
       "        vertical-align: middle;\n",
       "    }\n",
       "\n",
       "    .dataframe tbody tr th {\n",
       "        vertical-align: top;\n",
       "    }\n",
       "\n",
       "    .dataframe thead th {\n",
       "        text-align: right;\n",
       "    }\n",
       "</style>\n",
       "<table border=\"1\" class=\"dataframe\">\n",
       "  <thead>\n",
       "    <tr style=\"text-align: right;\">\n",
       "      <th></th>\n",
       "      <th>Тип отзыва</th>\n",
       "      <th>Текст отзыва</th>\n",
       "      <th>Спам</th>\n",
       "    </tr>\n",
       "  </thead>\n",
       "  <tbody>\n",
       "    <tr>\n",
       "      <th>0</th>\n",
       "      <td>позитивный</td>\n",
       "      <td>👍👍👍Супер разъ*б 👍👍👍👍👍</td>\n",
       "      <td>Спам, удалить</td>\n",
       "    </tr>\n",
       "    <tr>\n",
       "      <th>1</th>\n",
       "      <td>позитивный</td>\n",
       "      <td>Лазила лаповое каша а прилип пиал</td>\n",
       "      <td>Спам, удалить</td>\n",
       "    </tr>\n",
       "    <tr>\n",
       "      <th>2</th>\n",
       "      <td>позитивный</td>\n",
       "      <td>Ну что как у нас с вами получилось с этим рабо...</td>\n",
       "      <td>Спам, удалить</td>\n",
       "    </tr>\n",
       "    <tr>\n",
       "      <th>3</th>\n",
       "      <td>позитивный</td>\n",
       "      <td>Ну что там как там дела как настроение у</td>\n",
       "      <td>Спам, удалить</td>\n",
       "    </tr>\n",
       "    <tr>\n",
       "      <th>4</th>\n",
       "      <td>позитивный</td>\n",
       "      <td>Ну что там как там дела как настроение у вас ч...</td>\n",
       "      <td>Спам, удалить</td>\n",
       "    </tr>\n",
       "    <tr>\n",
       "      <th>...</th>\n",
       "      <td>...</td>\n",
       "      <td>...</td>\n",
       "      <td>...</td>\n",
       "    </tr>\n",
       "    <tr>\n",
       "      <th>2209</th>\n",
       "      <td>негативный</td>\n",
       "      <td>Ужасно.\\nЖдали несколько часов \\nНичего так и ...</td>\n",
       "      <td>Не доставлен</td>\n",
       "    </tr>\n",
       "    <tr>\n",
       "      <th>2210</th>\n",
       "      <td>негативный</td>\n",
       "      <td>Ужасный сервис !!!\\nДоставка ехала почти три ч...</td>\n",
       "      <td>Не довезли</td>\n",
       "    </tr>\n",
       "    <tr>\n",
       "      <th>2211</th>\n",
       "      <td>позитивный</td>\n",
       "      <td>Акция пицца в подарок не работает</td>\n",
       "      <td>Другое</td>\n",
       "    </tr>\n",
       "    <tr>\n",
       "      <th>2212</th>\n",
       "      <td>позитивный</td>\n",
       "      <td>не увидел имбиря😔\\nне увидел васаби😩</td>\n",
       "      <td>Уточнения по отзывам (допы)</td>\n",
       "    </tr>\n",
       "    <tr>\n",
       "      <th>2213</th>\n",
       "      <td>позитивный</td>\n",
       "      <td>не хватает одного Цезарь темпура</td>\n",
       "      <td>Не довезли</td>\n",
       "    </tr>\n",
       "  </tbody>\n",
       "</table>\n",
       "<p>2214 rows × 3 columns</p>\n",
       "</div>"
      ],
      "text/plain": [
       "      Тип отзыва                                       Текст отзыва  \\\n",
       "0     позитивный                              👍👍👍Супер разъ*б 👍👍👍👍👍   \n",
       "1     позитивный                  Лазила лаповое каша а прилип пиал   \n",
       "2     позитивный  Ну что как у нас с вами получилось с этим рабо...   \n",
       "3     позитивный           Ну что там как там дела как настроение у   \n",
       "4     позитивный  Ну что там как там дела как настроение у вас ч...   \n",
       "...          ...                                                ...   \n",
       "2209  негативный  Ужасно.\\nЖдали несколько часов \\nНичего так и ...   \n",
       "2210  негативный  Ужасный сервис !!!\\nДоставка ехала почти три ч...   \n",
       "2211  позитивный                  Акция пицца в подарок не работает   \n",
       "2212  позитивный               не увидел имбиря😔\\nне увидел васаби😩   \n",
       "2213  позитивный                   не хватает одного Цезарь темпура   \n",
       "\n",
       "                             Спам  \n",
       "0                   Спам, удалить  \n",
       "1                   Спам, удалить  \n",
       "2                   Спам, удалить  \n",
       "3                   Спам, удалить  \n",
       "4                   Спам, удалить  \n",
       "...                           ...  \n",
       "2209                 Не доставлен  \n",
       "2210                   Не довезли  \n",
       "2211                       Другое  \n",
       "2212  Уточнения по отзывам (допы)  \n",
       "2213                   Не довезли  \n",
       "\n",
       "[2214 rows x 3 columns]"
      ]
     },
     "execution_count": 8,
     "metadata": {},
     "output_type": "execute_result"
    }
   ],
   "source": [
    "data = pd.read_excel('Отзывы_спам,_модерация,_проблемы,_корректные.xlsx')\n",
    "data.rename(columns={'Unnamed: 0': 'Тип отзыва','Unnamed: 1' : 'Текст отзыва', 'Unnamed: 2': 'Спам'}, inplace=True)\n",
    "data"
   ]
  },
  {
   "cell_type": "code",
   "execution_count": 9,
   "metadata": {},
   "outputs": [
    {
     "data": {
      "text/html": [
       "<div>\n",
       "<style scoped>\n",
       "    .dataframe tbody tr th:only-of-type {\n",
       "        vertical-align: middle;\n",
       "    }\n",
       "\n",
       "    .dataframe tbody tr th {\n",
       "        vertical-align: top;\n",
       "    }\n",
       "\n",
       "    .dataframe thead th {\n",
       "        text-align: right;\n",
       "    }\n",
       "</style>\n",
       "<table border=\"1\" class=\"dataframe\">\n",
       "  <thead>\n",
       "    <tr style=\"text-align: right;\">\n",
       "      <th></th>\n",
       "      <th>Тип отзыва</th>\n",
       "      <th>Текст отзыва</th>\n",
       "      <th>Спам</th>\n",
       "    </tr>\n",
       "  </thead>\n",
       "  <tbody>\n",
       "    <tr>\n",
       "      <th>0</th>\n",
       "      <td>1</td>\n",
       "      <td>👍👍👍Супер разъ*б 👍👍👍👍👍</td>\n",
       "      <td>1</td>\n",
       "    </tr>\n",
       "    <tr>\n",
       "      <th>1</th>\n",
       "      <td>1</td>\n",
       "      <td>Лазила лаповое каша а прилип пиал</td>\n",
       "      <td>1</td>\n",
       "    </tr>\n",
       "    <tr>\n",
       "      <th>2</th>\n",
       "      <td>1</td>\n",
       "      <td>Ну что как у нас с вами получилось с этим рабо...</td>\n",
       "      <td>1</td>\n",
       "    </tr>\n",
       "    <tr>\n",
       "      <th>3</th>\n",
       "      <td>1</td>\n",
       "      <td>Ну что там как там дела как настроение у</td>\n",
       "      <td>1</td>\n",
       "    </tr>\n",
       "    <tr>\n",
       "      <th>4</th>\n",
       "      <td>1</td>\n",
       "      <td>Ну что там как там дела как настроение у вас ч...</td>\n",
       "      <td>1</td>\n",
       "    </tr>\n",
       "    <tr>\n",
       "      <th>...</th>\n",
       "      <td>...</td>\n",
       "      <td>...</td>\n",
       "      <td>...</td>\n",
       "    </tr>\n",
       "    <tr>\n",
       "      <th>2209</th>\n",
       "      <td>0</td>\n",
       "      <td>Ужасно.\\nЖдали несколько часов \\nНичего так и ...</td>\n",
       "      <td>0</td>\n",
       "    </tr>\n",
       "    <tr>\n",
       "      <th>2210</th>\n",
       "      <td>0</td>\n",
       "      <td>Ужасный сервис !!!\\nДоставка ехала почти три ч...</td>\n",
       "      <td>0</td>\n",
       "    </tr>\n",
       "    <tr>\n",
       "      <th>2211</th>\n",
       "      <td>1</td>\n",
       "      <td>Акция пицца в подарок не работает</td>\n",
       "      <td>0</td>\n",
       "    </tr>\n",
       "    <tr>\n",
       "      <th>2212</th>\n",
       "      <td>1</td>\n",
       "      <td>не увидел имбиря😔\\nне увидел васаби😩</td>\n",
       "      <td>0</td>\n",
       "    </tr>\n",
       "    <tr>\n",
       "      <th>2213</th>\n",
       "      <td>1</td>\n",
       "      <td>не хватает одного Цезарь темпура</td>\n",
       "      <td>0</td>\n",
       "    </tr>\n",
       "  </tbody>\n",
       "</table>\n",
       "<p>2214 rows × 3 columns</p>\n",
       "</div>"
      ],
      "text/plain": [
       "      Тип отзыва                                       Текст отзыва  Спам\n",
       "0              1                              👍👍👍Супер разъ*б 👍👍👍👍👍     1\n",
       "1              1                  Лазила лаповое каша а прилип пиал     1\n",
       "2              1  Ну что как у нас с вами получилось с этим рабо...     1\n",
       "3              1           Ну что там как там дела как настроение у     1\n",
       "4              1  Ну что там как там дела как настроение у вас ч...     1\n",
       "...          ...                                                ...   ...\n",
       "2209           0  Ужасно.\\nЖдали несколько часов \\nНичего так и ...     0\n",
       "2210           0  Ужасный сервис !!!\\nДоставка ехала почти три ч...     0\n",
       "2211           1                  Акция пицца в подарок не работает     0\n",
       "2212           1               не увидел имбиря😔\\nне увидел васаби😩     0\n",
       "2213           1                   не хватает одного Цезарь темпура     0\n",
       "\n",
       "[2214 rows x 3 columns]"
      ]
     },
     "execution_count": 9,
     "metadata": {},
     "output_type": "execute_result"
    }
   ],
   "source": [
    "data['Спам'] = data['Спам'].apply(lambda x: 1 if x == 'Спам, удалить' else 0)\n",
    "data['Тип отзыва'] = data['Тип отзыва'].apply(lambda x: 1 if x == 'позитивный' else 0)\n",
    "data"
   ]
  },
  {
   "cell_type": "code",
   "execution_count": null,
   "metadata": {},
   "outputs": [
    {
     "name": "stderr",
     "output_type": "stream",
     "text": [
      "huggingface/tokenizers: The current process just got forked, after parallelism has already been used. Disabling parallelism to avoid deadlocks...\n",
      "To disable this warning, you can either:\n",
      "\t- Avoid using `tokenizers` before the fork if possible\n",
      "\t- Explicitly set the environment variable TOKENIZERS_PARALLELISM=(true | false)\n",
      "Some weights of BertForSequenceClassification were not initialized from the model checkpoint at DeepPavlov/rubert-base-cased and are newly initialized: ['classifier.bias', 'classifier.weight']\n",
      "You should probably TRAIN this model on a down-stream task to be able to use it for predictions and inference.\n"
     ]
    },
    {
     "data": {
      "application/vnd.jupyter.widget-view+json": {
       "model_id": "190cfda471e346979d349672e22ad8de",
       "version_major": 2,
       "version_minor": 0
      },
      "text/plain": [
       "Map:   0%|          | 0/1771 [00:00<?, ? examples/s]"
      ]
     },
     "metadata": {},
     "output_type": "display_data"
    },
    {
     "data": {
      "application/vnd.jupyter.widget-view+json": {
       "model_id": "7f546fdf034a4bcc9fc10e1edc3d1b96",
       "version_major": 2,
       "version_minor": 0
      },
      "text/plain": [
       "Map:   0%|          | 0/443 [00:00<?, ? examples/s]"
      ]
     },
     "metadata": {},
     "output_type": "display_data"
    },
    {
     "name": "stderr",
     "output_type": "stream",
     "text": [
      "/home/student-math-01/anaconda3/envs/py33/lib/python3.10/site-packages/transformers/training_args.py:1575: FutureWarning: `evaluation_strategy` is deprecated and will be removed in version 4.46 of 🤗 Transformers. Use `eval_strategy` instead\n",
      "  warnings.warn(\n",
      "/tmp/ipykernel_423266/2958757075.py:74: FutureWarning: `tokenizer` is deprecated and will be removed in version 5.0.0 for `Trainer.__init__`. Use `processing_class` instead.\n",
      "  trainer = Trainer(\n",
      "Detected kernel version 3.10.0, which is below the recommended minimum of 5.5.0; this can cause the process to hang. It is recommended to upgrade the kernel to the minimum version or higher.\n"
     ]
    },
    {
     "data": {
      "text/html": [
       "\n",
       "    <div>\n",
       "      \n",
       "      <progress value='9' max='333' style='width:300px; height:20px; vertical-align: middle;'></progress>\n",
       "      [  9/333 01:32 < 1:11:23, 0.08 it/s, Epoch 0.07/3]\n",
       "    </div>\n",
       "    <table border=\"1\" class=\"dataframe\">\n",
       "  <thead>\n",
       " <tr style=\"text-align: left;\">\n",
       "      <th>Epoch</th>\n",
       "      <th>Training Loss</th>\n",
       "      <th>Validation Loss</th>\n",
       "    </tr>\n",
       "  </thead>\n",
       "  <tbody>\n",
       "  </tbody>\n",
       "</table><p>"
      ],
      "text/plain": [
       "<IPython.core.display.HTML object>"
      ]
     },
     "metadata": {},
     "output_type": "display_data"
    }
   ],
   "source": [
    "import re\n",
    "from transformers import AutoTokenizer, AutoModelForSequenceClassification, TrainingArguments, Trainer\n",
    "from sklearn.model_selection import train_test_split\n",
    "from pymorphy2 import MorphAnalyzer\n",
    "import numpy as np\n",
    "from torch.utils.data import DataLoader, Dataset\n",
    "import torch\n",
    "from datasets import Dataset as HFDataset, DatasetDict  # Hugging Face Datasets\n",
    "\n",
    "# Загрузка модели RuBERT\n",
    "tokenizer = AutoTokenizer.from_pretrained(\"DeepPavlov/rubert-base-cased\")\n",
    "model = AutoModelForSequenceClassification.from_pretrained(\"DeepPavlov/rubert-base-cased\", num_labels=len(data['Спам'].unique()))\n",
    "\n",
    "# Лемматизатор\n",
    "morph = MorphAnalyzer()\n",
    "\n",
    "def preprocess_text(text):\n",
    "    # Убираем спецсимволы, переводим в нижний регистр\n",
    "    text = re.sub(r\"[^\\w\\s]\", \"\", text.lower())\n",
    "    # Исправляем пробелы и сокращения\n",
    "    text = re.sub(r\"\\s+\", \" \", text).strip()\n",
    "    # Лемматизация\n",
    "    words = text.split()\n",
    "    lemmatized_text = \" \".join(morph.parse(word)[0].normal_form for word in words)\n",
    "    return lemmatized_text\n",
    "\n",
    "class TextDataset(Dataset):\n",
    "    def __init__(self, texts, labels):\n",
    "        self.texts = texts\n",
    "        self.labels = labels\n",
    "    \n",
    "    def __len__(self):\n",
    "        return len(self.texts)\n",
    "    \n",
    "    def __getitem__(self, idx):\n",
    "        return {\"text\": self.texts[idx], \"label\": self.labels[idx]}\n",
    "\n",
    "def tokenize_function(example):\n",
    "    return tokenizer(example[\"text\"], padding=\"max_length\", truncation=True, max_length=512)\n",
    "\n",
    "# Разделение данных\n",
    "X = data['Текст отзыва'].apply(preprocess_text).tolist()\n",
    "y = data['Спам'].tolist()\n",
    "\n",
    "X_train, X_test, y_train, y_test = train_test_split(X, y, test_size=0.2, random_state=42, stratify=y)\n",
    "\n",
    "# Подготовка данных в формате Hugging Face\n",
    "train_dataset = HFDataset.from_dict({\"text\": X_train, \"label\": y_train})\n",
    "test_dataset = HFDataset.from_dict({\"text\": X_test, \"label\": y_test})\n",
    "\n",
    "# Токенизация\n",
    "tokenized_datasets = DatasetDict({\n",
    "    \"train\": train_dataset.map(tokenize_function, batched=True),\n",
    "    \"test\": test_dataset.map(tokenize_function, batched=True),\n",
    "})\n",
    "\n",
    "# Удаление сырых текстов (они больше не нужны после токенизации)\n",
    "tokenized_datasets = tokenized_datasets.remove_columns([\"text\"])\n",
    "\n",
    "# Определение Trainer\n",
    "training_args = TrainingArguments(\n",
    "    output_dir=\"./results\",          # Куда сохранять результаты\n",
    "    evaluation_strategy=\"epoch\",    # Оценивать после каждой эпохи\n",
    "    learning_rate=2e-5,\n",
    "    per_device_train_batch_size=16,\n",
    "    per_device_eval_batch_size=16,\n",
    "    num_train_epochs=3,\n",
    "    weight_decay=0.01,\n",
    "    save_strategy=\"epoch\",\n",
    "    logging_dir='./logs',           # Логи обучения\n",
    "    logging_steps=10,\n",
    ")\n",
    "\n",
    "trainer = Trainer(\n",
    "    model=model,\n",
    "    args=training_args,\n",
    "    train_dataset=tokenized_datasets[\"train\"],\n",
    "    eval_dataset=tokenized_datasets[\"test\"],\n",
    "    tokenizer=tokenizer,\n",
    ")\n",
    "\n",
    "# Обучение модели\n",
    "trainer.train()\n",
    "\n",
    "# Оценка модели\n",
    "eval_results = trainer.evaluate()\n",
    "print(\"Evaluation results:\", eval_results)\n"
   ]
  },
  {
   "cell_type": "code",
   "execution_count": null,
   "metadata": {},
   "outputs": [
    {
     "name": "stderr",
     "output_type": "stream",
     "text": [
      "/home/student-math-01/anaconda3/envs/py33/lib/python3.10/site-packages/transformers/training_args.py:1575: FutureWarning: `evaluation_strategy` is deprecated and will be removed in version 4.46 of 🤗 Transformers. Use `eval_strategy` instead\n",
      "  warnings.warn(\n"
     ]
    }
   ],
   "source": [
    "# training_args = TrainingArguments(\n",
    "#     output_dir=\"./results\",          # Куда сохранять результаты\n",
    "#     evaluation_strategy=\"epoch\",    # Оценивать после каждой эпохи\n",
    "#     learning_rate=2e-5,\n",
    "#     per_device_train_batch_size=16,\n",
    "#     per_device_eval_batch_size=16,\n",
    "#     num_train_epochs=3,\n",
    "#     weight_decay=0.01,\n",
    "#     save_strategy=\"epoch\",\n",
    "#     logging_dir='./logs',           # Логи обучения\n",
    "#     logging_steps=10,\n",
    "# )\n"
   ]
  },
  {
   "cell_type": "code",
   "execution_count": null,
   "metadata": {},
   "outputs": [
    {
     "name": "stderr",
     "output_type": "stream",
     "text": [
      "/tmp/ipykernel_383190/817050193.py:1: FutureWarning: `tokenizer` is deprecated and will be removed in version 5.0.0 for `Trainer.__init__`. Use `processing_class` instead.\n",
      "  trainer = Trainer(\n",
      "Detected kernel version 3.10.0, which is below the recommended minimum of 5.5.0; this can cause the process to hang. It is recommended to upgrade the kernel to the minimum version or higher.\n"
     ]
    }
   ],
   "source": [
    "# trainer = Trainer(\n",
    "#     model=model,\n",
    "#     args=training_args,\n",
    "#     train_dataset=tokenized_datasets[\"train\"],\n",
    "#     eval_dataset=tokenized_datasets[\"validation\"],\n",
    "#     tokenizer=tokenizer,\n",
    "# )\n"
   ]
  },
  {
   "cell_type": "code",
   "execution_count": null,
   "metadata": {},
   "outputs": [
    {
     "data": {
      "text/html": [
       "\n",
       "    <div>\n",
       "      \n",
       "      <progress value='333' max='333' style='width:300px; height:20px; vertical-align: middle;'></progress>\n",
       "      [333/333 19:18, Epoch 3/3]\n",
       "    </div>\n",
       "    <table border=\"1\" class=\"dataframe\">\n",
       "  <thead>\n",
       " <tr style=\"text-align: left;\">\n",
       "      <th>Epoch</th>\n",
       "      <th>Training Loss</th>\n",
       "      <th>Validation Loss</th>\n",
       "    </tr>\n",
       "  </thead>\n",
       "  <tbody>\n",
       "    <tr>\n",
       "      <td>1</td>\n",
       "      <td>0.183300</td>\n",
       "      <td>0.145144</td>\n",
       "    </tr>\n",
       "    <tr>\n",
       "      <td>2</td>\n",
       "      <td>0.004400</td>\n",
       "      <td>0.126015</td>\n",
       "    </tr>\n",
       "    <tr>\n",
       "      <td>3</td>\n",
       "      <td>0.094700</td>\n",
       "      <td>0.169506</td>\n",
       "    </tr>\n",
       "  </tbody>\n",
       "</table><p>"
      ],
      "text/plain": [
       "<IPython.core.display.HTML object>"
      ]
     },
     "metadata": {},
     "output_type": "display_data"
    },
    {
     "data": {
      "text/plain": [
       "TrainOutput(global_step=333, training_loss=0.07242698527246087, metrics={'train_runtime': 1165.0184, 'train_samples_per_second': 4.56, 'train_steps_per_second': 0.286, 'total_flos': 349477259281920.0, 'train_loss': 0.07242698527246087, 'epoch': 3.0})"
      ]
     },
     "execution_count": 12,
     "metadata": {},
     "output_type": "execute_result"
    }
   ],
   "source": [
    "# trainer.train()"
   ]
  },
  {
   "cell_type": "code",
   "execution_count": null,
   "metadata": {},
   "outputs": [
    {
     "data": {
      "text/html": [],
      "text/plain": [
       "<IPython.core.display.HTML object>"
      ]
     },
     "metadata": {},
     "output_type": "display_data"
    },
    {
     "name": "stdout",
     "output_type": "stream",
     "text": [
      "{'eval_loss': 0.16950581967830658, 'eval_runtime': 24.6686, 'eval_samples_per_second': 17.958, 'eval_steps_per_second': 1.135, 'epoch': 3.0}\n"
     ]
    }
   ],
   "source": [
    "# metrics = trainer.evaluate()\n",
    "# print(metrics)"
   ]
  },
  {
   "cell_type": "code",
   "execution_count": null,
   "metadata": {},
   "outputs": [
    {
     "name": "stdout",
     "output_type": "stream",
     "text": [
      "Accuracy: 0.9661399548532731\n",
      "              precision    recall  f1-score   support\n",
      "\n",
      "     Class 0       0.98      0.98      0.98       389\n",
      "     Class 1       0.87      0.85      0.86        54\n",
      "\n",
      "    accuracy                           0.97       443\n",
      "   macro avg       0.92      0.92      0.92       443\n",
      "weighted avg       0.97      0.97      0.97       443\n",
      "\n"
     ]
    }
   ],
   "source": [
    "# from sklearn.metrics import classification_report, accuracy_score\n",
    "\n",
    "# # Получение предсказаний на валидационном датасете\n",
    "# predictions = trainer.predict(tokenized_datasets[\"validation\"])\n",
    "# pred_labels = predictions.predictions.argmax(axis=1)\n",
    "# true_labels = predictions.label_ids\n",
    "\n",
    "# # Вывод точности\n",
    "# accuracy = accuracy_score(true_labels, pred_labels)\n",
    "# print(\"Accuracy:\", accuracy)\n",
    "\n",
    "# # Подробный отчет о классификации\n",
    "# report = classification_report(true_labels, pred_labels, target_names=[\"Class 0\", \"Class 1\"])\n",
    "# print(report)\n"
   ]
  },
  {
   "cell_type": "code",
   "execution_count": null,
   "metadata": {},
   "outputs": [
    {
     "name": "stdout",
     "output_type": "stream",
     "text": [
      "Модель сохранена в model.pth\n"
     ]
    }
   ],
   "source": [
    "import torch\n",
    "\n",
    "# Упаковываем модель и токенизатор в словарь\n",
    "save_path = \"model1.pth\"\n",
    "torch.save({\n",
    "    \"model_state_dict\": model.state_dict(),\n",
    "    \"tokenizer\": tokenizer,\n",
    "    \"config\": model.config,\n",
    "}, save_path)\n",
    "print(f\"Модель сохранена в {save_path}\")\n"
   ]
  },
  {
   "cell_type": "code",
   "execution_count": null,
   "metadata": {},
   "outputs": [],
   "source": [
    "y = data['Тип отзыва'].tolist()\n",
    "\n",
    "X_train, X_test, y_train, y_test = train_test_split(X, y, test_size=0.2, random_state=42, stratify=y)\n",
    "\n",
    "# Подготовка данных в формате Hugging Face\n",
    "train_dataset = HFDataset.from_dict({\"text\": X_train, \"label\": y_train})\n",
    "test_dataset = HFDataset.from_dict({\"text\": X_test, \"label\": y_test})\n",
    "\n",
    "# Токенизация\n",
    "tokenized_datasets = DatasetDict({\n",
    "    \"train\": train_dataset.map(tokenize_function, batched=True),\n",
    "    \"test\": test_dataset.map(tokenize_function, batched=True),\n",
    "})\n",
    "\n",
    "# Удаление сырых текстов (они больше не нужны после токенизации)\n",
    "tokenized_datasets = tokenized_datasets.remove_columns([\"text\"])\n",
    "\n",
    "# Определение Trainer\n",
    "training_args = TrainingArguments(\n",
    "    output_dir=\"./results\",          # Куда сохранять результаты\n",
    "    evaluation_strategy=\"epoch\",    # Оценивать после каждой эпохи\n",
    "    learning_rate=2e-5,\n",
    "    per_device_train_batch_size=16,\n",
    "    per_device_eval_batch_size=16,\n",
    "    num_train_epochs=3,\n",
    "    weight_decay=0.01,\n",
    "    save_strategy=\"epoch\",\n",
    "    logging_dir='./logs',           # Логи обучения\n",
    "    logging_steps=10,\n",
    ")\n",
    "\n",
    "trainer = Trainer(\n",
    "    model=model,\n",
    "    args=training_args,\n",
    "    train_dataset=tokenized_datasets[\"train\"],\n",
    "    eval_dataset=tokenized_datasets[\"test\"],\n",
    "    tokenizer=tokenizer,\n",
    ")\n",
    "\n",
    "# Обучение модели\n",
    "trainer.train()\n",
    "\n",
    "# Оценка модели\n",
    "eval_results = trainer.evaluate()\n",
    "print(\"Evaluation results:\", eval_results)"
   ]
  },
  {
   "cell_type": "code",
   "execution_count": null,
   "metadata": {},
   "outputs": [],
   "source": [
    "import torch\n",
    "\n",
    "# Упаковываем модель и токенизатор в словарь\n",
    "save_path = \"model2.pth\"\n",
    "torch.save({\n",
    "    \"model_state_dict\": model.state_dict(),\n",
    "    \"tokenizer\": tokenizer,\n",
    "    \"config\": model.config,\n",
    "}, save_path)\n",
    "print(f\"Модель сохранена в {save_path}\")\n"
   ]
  }
 ],
 "metadata": {
  "kernelspec": {
   "display_name": "py33",
   "language": "python",
   "name": "python3"
  },
  "language_info": {
   "codemirror_mode": {
    "name": "ipython",
    "version": 3
   },
   "file_extension": ".py",
   "mimetype": "text/x-python",
   "name": "python",
   "nbconvert_exporter": "python",
   "pygments_lexer": "ipython3",
   "version": "3.10.15"
  }
 },
 "nbformat": 4,
 "nbformat_minor": 2
}
